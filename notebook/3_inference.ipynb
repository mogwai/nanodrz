{
 "cells": [
  {
   "cell_type": "code",
   "execution_count": null,
   "metadata": {},
   "outputs": [],
   "source": [
    "%reload_ext autoreload\n",
    "%autoreload 2\n",
    "%matplotlib inline"
   ]
  },
  {
   "cell_type": "code",
   "execution_count": null,
   "metadata": {},
   "outputs": [],
   "source": [
    "import torch\n",
    "from nanodrz.model import DiarizeGPT, Config\n",
    "from nanodrz import data\n",
    "from nanodrz.data import artificial_diarisation_sample\n",
    "from nanodrz.utils import visualise_annotation, play\n",
    "from nanodrz.download import dl_scp_file\n",
    "from glob import glob\n",
    "from os import path\n",
    "import json\n",
    "from nanodrz.constants import CACHE_DIR\n",
    "from nanodrz import format_conversions as format\n",
    "\n",
    "device = torch.device(\"cuda:0\")\n",
    "torch.cuda.set_device(device)\n",
    "# https://drive.google.com/file/d/1Cg_GPHxpcWMqGpsDlLMXlr5ui0mPYacn/view?usp=sharing\n",
    "ckpt = torch.load(\"/home/harry/runs/nanodrz/1708904995/0014000.pt\", map_location=device)\n",
    "model:DiarizeGPT = DiarizeGPT.from_pretrained(ckpt).cuda()"
   ]
  },
  {
   "cell_type": "code",
   "execution_count": null,
   "metadata": {},
   "outputs": [],
   "source": [
    "# Use the same parameters that the model was trained on to generate a sample\n",
    "for i in range(3):\n",
    "    audio, labels = artificial_diarisation_sample(data.get_speakers(), min_secs=10, num_speakers=2, max_secs=15)\n",
    "    play(audio)\n",
    "    reference = format.labels_to_annotation(labels)\n",
    "\n",
    "    nlabels = model.generate(audio.cuda(), temperature=.3, max_steps=(len(labels))*3)\n",
    "\n",
    "    hypothesis = format.labels_to_annotation(nlabels)\n",
    "    visualise_annotation(labels)\n",
    "    visualise_annotation(nlabels)\n",
    "\n",
    "    from pyannote.metrics.diarization import DiarizationErrorRate\n",
    "\n",
    "    metric = DiarizationErrorRate()\n",
    "    print(metric(reference, hypothesis))"
   ]
  },
  {
   "cell_type": "code",
   "execution_count": null,
   "metadata": {},
   "outputs": [],
   "source": []
  },
  {
   "cell_type": "code",
   "execution_count": null,
   "metadata": {},
   "outputs": [],
   "source": []
  }
 ],
 "metadata": {
  "kernelspec": {
   "display_name": "Python 3 (ipykernel)",
   "language": "python",
   "name": "python3"
  },
  "language_info": {
   "codemirror_mode": {
    "name": "ipython",
    "version": 3
   },
   "file_extension": ".py",
   "mimetype": "text/x-python",
   "name": "python",
   "nbconvert_exporter": "python",
   "pygments_lexer": "ipython3",
   "version": "3.11.8"
  }
 },
 "nbformat": 4,
 "nbformat_minor": 4
}
